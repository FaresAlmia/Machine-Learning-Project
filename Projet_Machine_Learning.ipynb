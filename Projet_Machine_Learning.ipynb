{
 "cells": [
  {
   "cell_type": "code",
   "execution_count": 1,
   "metadata": {},
   "outputs": [],
   "source": [
    "import pandas as pd"
   ]
  },
  {
   "cell_type": "code",
   "execution_count": 2,
   "metadata": {},
   "outputs": [],
   "source": [
    "df=pd.read_excel('PORTEFEUILLE.xlsx', index_col=0)"
   ]
  },
  {
   "cell_type": "code",
   "execution_count": 3,
   "metadata": {},
   "outputs": [
    {
     "data": {
      "text/html": [
       "<div>\n",
       "<style scoped>\n",
       "    .dataframe tbody tr th:only-of-type {\n",
       "        vertical-align: middle;\n",
       "    }\n",
       "\n",
       "    .dataframe tbody tr th {\n",
       "        vertical-align: top;\n",
       "    }\n",
       "\n",
       "    .dataframe thead th {\n",
       "        text-align: right;\n",
       "    }\n",
       "</style>\n",
       "<table border=\"1\" class=\"dataframe\">\n",
       "  <thead>\n",
       "    <tr style=\"text-align: right;\">\n",
       "      <th></th>\n",
       "      <th>Nom</th>\n",
       "      <th>AO/CONSULTATION/RENEGOCIATION ANNUELLE</th>\n",
       "      <th>MIGRATION CARTE</th>\n",
       "      <th>Public ou Privé</th>\n",
       "      <th>Famille activités</th>\n",
       "      <th>Détails activités</th>\n",
       "      <th>Délais de paiement CR</th>\n",
       "      <th>Mode paiement CR</th>\n",
       "      <th>tx PS positive</th>\n",
       "      <th>tx remise sur facture</th>\n",
       "      <th>...</th>\n",
       "      <th>TX REMISE CH</th>\n",
       "      <th>TX PS POSITIVE.2</th>\n",
       "      <th>MONTANT REMISE</th>\n",
       "      <th>MONTANT PS POSITIVE</th>\n",
       "      <th>MONTANT TOTAL COM CLIENT.2</th>\n",
       "      <th>Bv Clothes mil 19</th>\n",
       "      <th>TOTAL ALL SCES FCST 2020 AVANT COVID</th>\n",
       "      <th>TAILLE ALL SERVICES 2020</th>\n",
       "      <th>TOTAL ALL SCES 2020 APRES COVID</th>\n",
       "      <th>CATEGORY OGM ALL SERVICE</th>\n",
       "    </tr>\n",
       "    <tr>\n",
       "      <th>N origine</th>\n",
       "      <th></th>\n",
       "      <th></th>\n",
       "      <th></th>\n",
       "      <th></th>\n",
       "      <th></th>\n",
       "      <th></th>\n",
       "      <th></th>\n",
       "      <th></th>\n",
       "      <th></th>\n",
       "      <th></th>\n",
       "      <th></th>\n",
       "      <th></th>\n",
       "      <th></th>\n",
       "      <th></th>\n",
       "      <th></th>\n",
       "      <th></th>\n",
       "      <th></th>\n",
       "      <th></th>\n",
       "      <th></th>\n",
       "      <th></th>\n",
       "      <th></th>\n",
       "    </tr>\n",
       "  </thead>\n",
       "  <tbody>\n",
       "    <tr>\n",
       "      <th>7471.0</th>\n",
       "      <td>STE MEDITERANEENE DE TELESERVICES</td>\n",
       "      <td>OUI</td>\n",
       "      <td>OUI</td>\n",
       "      <td>Prive</td>\n",
       "      <td>Call &amp; Support Center</td>\n",
       "      <td>Call &amp; Support Center</td>\n",
       "      <td>30.0</td>\n",
       "      <td>Bank transfer</td>\n",
       "      <td>NaN</td>\n",
       "      <td>NaN</td>\n",
       "      <td>...</td>\n",
       "      <td>NaN</td>\n",
       "      <td>NaN</td>\n",
       "      <td>0.0</td>\n",
       "      <td>0.0</td>\n",
       "      <td>0.0</td>\n",
       "      <td>0.0</td>\n",
       "      <td>9444059.486</td>\n",
       "      <td>LARGE</td>\n",
       "      <td>1.032570e+07</td>\n",
       "      <td>NaN</td>\n",
       "    </tr>\n",
       "    <tr>\n",
       "      <th>19990.0</th>\n",
       "      <td>MUTUELLE DU MINISTÈRE DES FINANCES</td>\n",
       "      <td>OUI</td>\n",
       "      <td>NaN</td>\n",
       "      <td>Public</td>\n",
       "      <td>Public Administration</td>\n",
       "      <td>Public administration</td>\n",
       "      <td>45.0</td>\n",
       "      <td>Check</td>\n",
       "      <td>NaN</td>\n",
       "      <td>-0.0475</td>\n",
       "      <td>...</td>\n",
       "      <td>NaN</td>\n",
       "      <td>NaN</td>\n",
       "      <td>0.0</td>\n",
       "      <td>0.0</td>\n",
       "      <td>0.0</td>\n",
       "      <td>0.0</td>\n",
       "      <td>0.000</td>\n",
       "      <td>PUBLIC</td>\n",
       "      <td>3.375736e+06</td>\n",
       "      <td>CLIENT DEV 2020</td>\n",
       "    </tr>\n",
       "    <tr>\n",
       "      <th>11104.0</th>\n",
       "      <td>MUTUELLE DE L ELECTRICITE ET DU GAZ</td>\n",
       "      <td>OUI</td>\n",
       "      <td>NaN</td>\n",
       "      <td>Public</td>\n",
       "      <td>Public Company</td>\n",
       "      <td>Public Companies</td>\n",
       "      <td>45.0</td>\n",
       "      <td>Bank transfer</td>\n",
       "      <td>NaN</td>\n",
       "      <td>-0.0350</td>\n",
       "      <td>...</td>\n",
       "      <td>NaN</td>\n",
       "      <td>NaN</td>\n",
       "      <td>0.0</td>\n",
       "      <td>0.0</td>\n",
       "      <td>0.0</td>\n",
       "      <td>0.0</td>\n",
       "      <td>7563288.000</td>\n",
       "      <td>PUBLIC</td>\n",
       "      <td>7.537296e+06</td>\n",
       "      <td>NaN</td>\n",
       "    </tr>\n",
       "    <tr>\n",
       "      <th>9234.0</th>\n",
       "      <td>AMICALE DE L'OFFICE DE L'AVIATION CIVILE ET DE...</td>\n",
       "      <td>OUI</td>\n",
       "      <td>NaN</td>\n",
       "      <td>Public</td>\n",
       "      <td>Public Company</td>\n",
       "      <td>Public Companies</td>\n",
       "      <td>45.0</td>\n",
       "      <td>Bank transfer</td>\n",
       "      <td>NaN</td>\n",
       "      <td>-0.0550</td>\n",
       "      <td>...</td>\n",
       "      <td>NaN</td>\n",
       "      <td>NaN</td>\n",
       "      <td>0.0</td>\n",
       "      <td>0.0</td>\n",
       "      <td>0.0</td>\n",
       "      <td>0.0</td>\n",
       "      <td>3156524.000</td>\n",
       "      <td>PUBLIC</td>\n",
       "      <td>2.525600e+06</td>\n",
       "      <td>CLIENT DEV 2020</td>\n",
       "    </tr>\n",
       "    <tr>\n",
       "      <th>12133.0</th>\n",
       "      <td>AMICALE AGENCE TUNISIENNE DE LA FORMATION PROF...</td>\n",
       "      <td>OUI</td>\n",
       "      <td>NaN</td>\n",
       "      <td>Public</td>\n",
       "      <td>Public administration</td>\n",
       "      <td>Public administration</td>\n",
       "      <td>30.0</td>\n",
       "      <td>Check</td>\n",
       "      <td>NaN</td>\n",
       "      <td>NaN</td>\n",
       "      <td>...</td>\n",
       "      <td>NaN</td>\n",
       "      <td>NaN</td>\n",
       "      <td>0.0</td>\n",
       "      <td>0.0</td>\n",
       "      <td>0.0</td>\n",
       "      <td>0.0</td>\n",
       "      <td>5860495.000</td>\n",
       "      <td>PUBLIC</td>\n",
       "      <td>4.535846e+06</td>\n",
       "      <td>NaN</td>\n",
       "    </tr>\n",
       "  </tbody>\n",
       "</table>\n",
       "<p>5 rows × 264 columns</p>\n",
       "</div>"
      ],
      "text/plain": [
       "                                                         Nom  \\\n",
       "N origine                                                      \n",
       "7471.0                     STE MEDITERANEENE DE TELESERVICES   \n",
       "19990.0                   MUTUELLE DU MINISTÈRE DES FINANCES   \n",
       "11104.0                  MUTUELLE DE L ELECTRICITE ET DU GAZ   \n",
       "9234.0     AMICALE DE L'OFFICE DE L'AVIATION CIVILE ET DE...   \n",
       "12133.0    AMICALE AGENCE TUNISIENNE DE LA FORMATION PROF...   \n",
       "\n",
       "          AO/CONSULTATION/RENEGOCIATION ANNUELLE  MIGRATION CARTE  \\\n",
       "N origine                                                           \n",
       "7471.0                                        OUI             OUI   \n",
       "19990.0                                       OUI             NaN   \n",
       "11104.0                                       OUI             NaN   \n",
       "9234.0                                        OUI             NaN   \n",
       "12133.0                                       OUI             NaN   \n",
       "\n",
       "          Public ou Privé       Famille activités      Détails activités   \\\n",
       "N origine                                                                   \n",
       "7471.0              Prive  Call & Support Center   Call & Support Center    \n",
       "19990.0            Public   Public Administration   Public administration   \n",
       "11104.0            Public          Public Company       Public Companies    \n",
       "9234.0             Public          Public Company       Public Companies    \n",
       "12133.0            Public   Public administration   Public administration   \n",
       "\n",
       "           Délais de paiement CR Mode paiement CR  tx PS positive  \\\n",
       "N origine                                                           \n",
       "7471.0                      30.0    Bank transfer             NaN   \n",
       "19990.0                     45.0            Check             NaN   \n",
       "11104.0                     45.0    Bank transfer             NaN   \n",
       "9234.0                      45.0    Bank transfer             NaN   \n",
       "12133.0                     30.0            Check             NaN   \n",
       "\n",
       "           tx remise sur facture  ...  TX REMISE CH TX PS POSITIVE.2  \\\n",
       "N origine                         ...                                  \n",
       "7471.0                       NaN  ...           NaN              NaN   \n",
       "19990.0                  -0.0475  ...           NaN              NaN   \n",
       "11104.0                  -0.0350  ...           NaN              NaN   \n",
       "9234.0                   -0.0550  ...           NaN              NaN   \n",
       "12133.0                      NaN  ...           NaN              NaN   \n",
       "\n",
       "           MONTANT REMISE MONTANT PS POSITIVE  MONTANT TOTAL COM CLIENT.2  \\\n",
       "N origine                                                                   \n",
       "7471.0                0.0                 0.0                         0.0   \n",
       "19990.0               0.0                 0.0                         0.0   \n",
       "11104.0               0.0                 0.0                         0.0   \n",
       "9234.0                0.0                 0.0                         0.0   \n",
       "12133.0               0.0                 0.0                         0.0   \n",
       "\n",
       "           Bv Clothes mil 19  TOTAL ALL SCES FCST 2020 AVANT COVID  \\\n",
       "N origine                                                            \n",
       "7471.0                   0.0                           9444059.486   \n",
       "19990.0                  0.0                                 0.000   \n",
       "11104.0                  0.0                           7563288.000   \n",
       "9234.0                   0.0                           3156524.000   \n",
       "12133.0                  0.0                           5860495.000   \n",
       "\n",
       "           TAILLE ALL SERVICES 2020  TOTAL ALL SCES 2020 APRES COVID   \\\n",
       "N origine                                                               \n",
       "7471.0                        LARGE                      1.032570e+07   \n",
       "19990.0                      PUBLIC                      3.375736e+06   \n",
       "11104.0                      PUBLIC                      7.537296e+06   \n",
       "9234.0                       PUBLIC                      2.525600e+06   \n",
       "12133.0                      PUBLIC                      4.535846e+06   \n",
       "\n",
       "           CATEGORY OGM ALL SERVICE  \n",
       "N origine                            \n",
       "7471.0                          NaN  \n",
       "19990.0             CLIENT DEV 2020  \n",
       "11104.0                         NaN  \n",
       "9234.0              CLIENT DEV 2020  \n",
       "12133.0                         NaN  \n",
       "\n",
       "[5 rows x 264 columns]"
      ]
     },
     "execution_count": 3,
     "metadata": {},
     "output_type": "execute_result"
    }
   ],
   "source": [
    "df.head()"
   ]
  },
  {
   "cell_type": "code",
   "execution_count": 69,
   "metadata": {},
   "outputs": [],
   "source": [
    "df1=df[['Délais de paiement CR','tx remise sur facture']]"
   ]
  },
  {
   "cell_type": "code",
   "execution_count": 70,
   "metadata": {},
   "outputs": [
    {
     "data": {
      "text/plain": [
       "8.158614232209738"
      ]
     },
     "execution_count": 70,
     "metadata": {},
     "output_type": "execute_result"
    }
   ],
   "source": [
    "mean_delais_paiement=df1['Délais de paiement CR'].mean()\n",
    "mean_delais_paiement"
   ]
  },
  {
   "cell_type": "code",
   "execution_count": 71,
   "metadata": {},
   "outputs": [
    {
     "data": {
      "text/plain": [
       "-0.026542758620689607"
      ]
     },
     "execution_count": 71,
     "metadata": {},
     "output_type": "execute_result"
    }
   ],
   "source": [
    "mean_tx_remise_facture=df1['tx remise sur facture'].mean()\n",
    "mean_tx_remise_facture"
   ]
  },
  {
   "cell_type": "code",
   "execution_count": 72,
   "metadata": {},
   "outputs": [
    {
     "name": "stderr",
     "output_type": "stream",
     "text": [
      "C:\\Users\\fares\\anaconda3\\lib\\site-packages\\pandas\\core\\generic.py:6245: SettingWithCopyWarning: \n",
      "A value is trying to be set on a copy of a slice from a DataFrame\n",
      "\n",
      "See the caveats in the documentation: https://pandas.pydata.org/pandas-docs/stable/user_guide/indexing.html#returning-a-view-versus-a-copy\n",
      "  self._update_inplace(new_data)\n"
     ]
    }
   ],
   "source": [
    "df1.fillna({'Délais de paiement CR':mean_delais_paiement,'tx remise sur facture':mean_tx_remise_facture}, inplace=True)"
   ]
  },
  {
   "cell_type": "code",
   "execution_count": 73,
   "metadata": {},
   "outputs": [
    {
     "data": {
      "text/html": [
       "<div>\n",
       "<style scoped>\n",
       "    .dataframe tbody tr th:only-of-type {\n",
       "        vertical-align: middle;\n",
       "    }\n",
       "\n",
       "    .dataframe tbody tr th {\n",
       "        vertical-align: top;\n",
       "    }\n",
       "\n",
       "    .dataframe thead th {\n",
       "        text-align: right;\n",
       "    }\n",
       "</style>\n",
       "<table border=\"1\" class=\"dataframe\">\n",
       "  <thead>\n",
       "    <tr style=\"text-align: right;\">\n",
       "      <th></th>\n",
       "      <th>Délais de paiement CR</th>\n",
       "      <th>tx remise sur facture</th>\n",
       "    </tr>\n",
       "    <tr>\n",
       "      <th>N origine</th>\n",
       "      <th></th>\n",
       "      <th></th>\n",
       "    </tr>\n",
       "  </thead>\n",
       "  <tbody>\n",
       "    <tr>\n",
       "      <th>7471.0</th>\n",
       "      <td>30.000000</td>\n",
       "      <td>-0.026543</td>\n",
       "    </tr>\n",
       "    <tr>\n",
       "      <th>19990.0</th>\n",
       "      <td>45.000000</td>\n",
       "      <td>-0.047500</td>\n",
       "    </tr>\n",
       "    <tr>\n",
       "      <th>11104.0</th>\n",
       "      <td>45.000000</td>\n",
       "      <td>-0.035000</td>\n",
       "    </tr>\n",
       "    <tr>\n",
       "      <th>9234.0</th>\n",
       "      <td>45.000000</td>\n",
       "      <td>-0.055000</td>\n",
       "    </tr>\n",
       "    <tr>\n",
       "      <th>12133.0</th>\n",
       "      <td>30.000000</td>\n",
       "      <td>-0.026543</td>\n",
       "    </tr>\n",
       "    <tr>\n",
       "      <th>...</th>\n",
       "      <td>...</td>\n",
       "      <td>...</td>\n",
       "    </tr>\n",
       "    <tr>\n",
       "      <th>14861.0</th>\n",
       "      <td>0.000000</td>\n",
       "      <td>-0.026543</td>\n",
       "    </tr>\n",
       "    <tr>\n",
       "      <th>19268.0</th>\n",
       "      <td>0.000000</td>\n",
       "      <td>-0.026543</td>\n",
       "    </tr>\n",
       "    <tr>\n",
       "      <th>15781.0</th>\n",
       "      <td>30.000000</td>\n",
       "      <td>-0.026543</td>\n",
       "    </tr>\n",
       "    <tr>\n",
       "      <th>10251.0</th>\n",
       "      <td>30.000000</td>\n",
       "      <td>-0.026543</td>\n",
       "    </tr>\n",
       "    <tr>\n",
       "      <th>NaN</th>\n",
       "      <td>8.158614</td>\n",
       "      <td>-0.026543</td>\n",
       "    </tr>\n",
       "  </tbody>\n",
       "</table>\n",
       "<p>8293 rows × 2 columns</p>\n",
       "</div>"
      ],
      "text/plain": [
       "           Délais de paiement CR  tx remise sur facture\n",
       "N origine                                              \n",
       "7471.0                 30.000000              -0.026543\n",
       "19990.0                45.000000              -0.047500\n",
       "11104.0                45.000000              -0.035000\n",
       "9234.0                 45.000000              -0.055000\n",
       "12133.0                30.000000              -0.026543\n",
       "...                          ...                    ...\n",
       "14861.0                 0.000000              -0.026543\n",
       "19268.0                 0.000000              -0.026543\n",
       "15781.0                30.000000              -0.026543\n",
       "10251.0                30.000000              -0.026543\n",
       "NaN                     8.158614              -0.026543\n",
       "\n",
       "[8293 rows x 2 columns]"
      ]
     },
     "execution_count": 73,
     "metadata": {},
     "output_type": "execute_result"
    }
   ],
   "source": [
    "df1"
   ]
  },
  {
   "cell_type": "code",
   "execution_count": 74,
   "metadata": {},
   "outputs": [
    {
     "data": {
      "text/html": [
       "<div>\n",
       "<style scoped>\n",
       "    .dataframe tbody tr th:only-of-type {\n",
       "        vertical-align: middle;\n",
       "    }\n",
       "\n",
       "    .dataframe tbody tr th {\n",
       "        vertical-align: top;\n",
       "    }\n",
       "\n",
       "    .dataframe thead th {\n",
       "        text-align: right;\n",
       "    }\n",
       "</style>\n",
       "<table border=\"1\" class=\"dataframe\">\n",
       "  <thead>\n",
       "    <tr style=\"text-align: right;\">\n",
       "      <th></th>\n",
       "      <th>Délais de paiement CR</th>\n",
       "      <th>tx remise sur facture</th>\n",
       "    </tr>\n",
       "  </thead>\n",
       "  <tbody>\n",
       "    <tr>\n",
       "      <th>Délais de paiement CR</th>\n",
       "      <td>126.149138</td>\n",
       "      <td>-0.000744</td>\n",
       "    </tr>\n",
       "    <tr>\n",
       "      <th>tx remise sur facture</th>\n",
       "      <td>-0.000744</td>\n",
       "      <td>0.000003</td>\n",
       "    </tr>\n",
       "  </tbody>\n",
       "</table>\n",
       "</div>"
      ],
      "text/plain": [
       "                       Délais de paiement CR  tx remise sur facture\n",
       "Délais de paiement CR             126.149138              -0.000744\n",
       "tx remise sur facture              -0.000744               0.000003"
      ]
     },
     "execution_count": 74,
     "metadata": {},
     "output_type": "execute_result"
    }
   ],
   "source": [
    "df1.cov()"
   ]
  },
  {
   "cell_type": "markdown",
   "metadata": {},
   "source": [
    "<h1>Normalisation"
   ]
  },
  {
   "cell_type": "code",
   "execution_count": 75,
   "metadata": {},
   "outputs": [],
   "source": [
    "from sklearn.preprocessing import StandardScaler\n",
    "ss=StandardScaler()\n",
    "ss.fit(df1)\n",
    "X1=ss.transform(df1)"
   ]
  },
  {
   "cell_type": "code",
   "execution_count": 76,
   "metadata": {},
   "outputs": [
    {
     "data": {
      "text/plain": [
       "array([[ 1.94475202e+00, -1.99024189e-15],\n",
       "       [ 3.28034861e+00, -1.20220831e+01],\n",
       "       [ 3.28034861e+00, -4.85148102e+00],\n",
       "       ...,\n",
       "       [ 1.94475202e+00, -1.99024189e-15],\n",
       "       [ 1.94475202e+00, -1.99024189e-15],\n",
       "       [ 0.00000000e+00, -1.99024189e-15]])"
      ]
     },
     "execution_count": 76,
     "metadata": {},
     "output_type": "execute_result"
    }
   ],
   "source": [
    "X1"
   ]
  },
  {
   "cell_type": "code",
   "execution_count": 77,
   "metadata": {},
   "outputs": [
    {
     "data": {
      "text/plain": [
       "array([[ 1.        , -0.03799985],\n",
       "       [-0.03799985,  1.        ]])"
      ]
     },
     "execution_count": 77,
     "metadata": {},
     "output_type": "execute_result"
    }
   ],
   "source": [
    "import  numpy as np\n",
    "np.cov(X1.T, ddof=0)"
   ]
  },
  {
   "cell_type": "markdown",
   "metadata": {},
   "source": [
    "<h1>Clustering"
   ]
  },
  {
   "cell_type": "code",
   "execution_count": 78,
   "metadata": {},
   "outputs": [],
   "source": [
    "from sklearn.cluster import KMeans\n",
    "km=KMeans(n_clusters=2)\n",
    "km.fit(X1)\n",
    "labels=km.predict(X1)"
   ]
  },
  {
   "cell_type": "code",
   "execution_count": 79,
   "metadata": {},
   "outputs": [
    {
     "data": {
      "text/plain": [
       "array([1, 1, 1, ..., 1, 1, 0])"
      ]
     },
     "execution_count": 79,
     "metadata": {},
     "output_type": "execute_result"
    }
   ],
   "source": [
    "labels"
   ]
  },
  {
   "cell_type": "code",
   "execution_count": 80,
   "metadata": {},
   "outputs": [
    {
     "data": {
      "text/plain": [
       "7022"
      ]
     },
     "execution_count": 80,
     "metadata": {},
     "output_type": "execute_result"
    }
   ],
   "source": [
    "np.sum(labels==0)"
   ]
  },
  {
   "cell_type": "code",
   "execution_count": 81,
   "metadata": {},
   "outputs": [
    {
     "data": {
      "text/plain": [
       "1271"
      ]
     },
     "execution_count": 81,
     "metadata": {},
     "output_type": "execute_result"
    }
   ],
   "source": [
    "np.sum(labels==1)"
   ]
  },
  {
   "cell_type": "code",
   "execution_count": 82,
   "metadata": {},
   "outputs": [],
   "source": [
    "# np.sum(labels==2)"
   ]
  },
  {
   "cell_type": "code",
   "execution_count": 83,
   "metadata": {},
   "outputs": [],
   "source": [
    "S0=X1[labels==0]\n",
    "S1=X1[labels==1]"
   ]
  },
  {
   "cell_type": "code",
   "execution_count": 84,
   "metadata": {},
   "outputs": [
    {
     "data": {
      "text/plain": [
       "(7022, 2)"
      ]
     },
     "execution_count": 84,
     "metadata": {},
     "output_type": "execute_result"
    }
   ],
   "source": [
    "S0.shape"
   ]
  },
  {
   "cell_type": "code",
   "execution_count": 85,
   "metadata": {},
   "outputs": [
    {
     "data": {
      "text/plain": [
       "(1271, 2)"
      ]
     },
     "execution_count": 85,
     "metadata": {},
     "output_type": "execute_result"
    }
   ],
   "source": [
    "S1.shape"
   ]
  },
  {
   "cell_type": "code",
   "execution_count": 86,
   "metadata": {},
   "outputs": [
    {
     "data": {
      "image/png": "[encoded data removed]",
      "text/plain": [
       "<Figure size 432x288 with 1 Axes>"
      ]
     },
     "metadata": {
      "needs_background": "light"
     },
     "output_type": "display_data"
    }
   ],
   "source": [
    "import matplotlib.pyplot as plt\n",
    "plt.plot(S0[:,0],S0[:,1],'r+',label='cluster 0')\n",
    "plt.plot(S1[:,0],S1[:,1],'b+',label='cluster 1')\n",
    "plt.legend()\n",
    "plt.xlabel('Délais de paiement CR')\n",
    "plt.ylabel('tx remise sur facture')\n",
    "plt.title('Clustering des données')\n",
    "plt.show()"
   ]
  },
  {
   "cell_type": "markdown",
   "metadata": {},
   "source": [
    "<h1>Clustering sur les revenus"
   ]
  },
  {
   "cell_type": "code",
   "execution_count": 87,
   "metadata": {},
   "outputs": [
    {
     "data": {
      "text/html": [
       "<div>\n",
       "<style scoped>\n",
       "    .dataframe tbody tr th:only-of-type {\n",
       "        vertical-align: middle;\n",
       "    }\n",
       "\n",
       "    .dataframe tbody tr th {\n",
       "        vertical-align: top;\n",
       "    }\n",
       "\n",
       "    .dataframe thead th {\n",
       "        text-align: right;\n",
       "    }\n",
       "</style>\n",
       "<table border=\"1\" class=\"dataframe\">\n",
       "  <thead>\n",
       "    <tr style=\"text-align: right;\">\n",
       "      <th></th>\n",
       "      <th>TOTAL Q1 MEAL</th>\n",
       "      <th>TOTAL Q2 MEAL</th>\n",
       "      <th>TOTAL Q3 2020</th>\n",
       "      <th>TOTAL Q4</th>\n",
       "    </tr>\n",
       "    <tr>\n",
       "      <th>N origine</th>\n",
       "      <th></th>\n",
       "      <th></th>\n",
       "      <th></th>\n",
       "      <th></th>\n",
       "    </tr>\n",
       "  </thead>\n",
       "  <tbody>\n",
       "    <tr>\n",
       "      <th>7471.0</th>\n",
       "      <td>2364336.5</td>\n",
       "      <td>2407811.5</td>\n",
       "      <td>1829931.0</td>\n",
       "      <td>2632725.5</td>\n",
       "    </tr>\n",
       "    <tr>\n",
       "      <th>19990.0</th>\n",
       "      <td>0.0</td>\n",
       "      <td>0.0</td>\n",
       "      <td>2640000.0</td>\n",
       "      <td>735736.0</td>\n",
       "    </tr>\n",
       "    <tr>\n",
       "      <th>11104.0</th>\n",
       "      <td>1982802.0</td>\n",
       "      <td>2066496.0</td>\n",
       "      <td>1387320.0</td>\n",
       "      <td>2097928.0</td>\n",
       "    </tr>\n",
       "    <tr>\n",
       "      <th>9234.0</th>\n",
       "      <td>1262800.0</td>\n",
       "      <td>631400.0</td>\n",
       "      <td>631400.0</td>\n",
       "      <td>0.0</td>\n",
       "    </tr>\n",
       "    <tr>\n",
       "      <th>12133.0</th>\n",
       "      <td>1374230.0</td>\n",
       "      <td>1899781.0</td>\n",
       "      <td>753156.0</td>\n",
       "      <td>491679.0</td>\n",
       "    </tr>\n",
       "  </tbody>\n",
       "</table>\n",
       "</div>"
      ],
      "text/plain": [
       "           TOTAL Q1 MEAL  TOTAL Q2 MEAL  TOTAL Q3 2020   TOTAL Q4 \n",
       "N origine                                                         \n",
       "7471.0         2364336.5      2407811.5       1829931.0  2632725.5\n",
       "19990.0              0.0            0.0       2640000.0   735736.0\n",
       "11104.0        1982802.0      2066496.0       1387320.0  2097928.0\n",
       "9234.0         1262800.0       631400.0        631400.0        0.0\n",
       "12133.0        1374230.0      1899781.0        753156.0   491679.0"
      ]
     },
     "execution_count": 87,
     "metadata": {},
     "output_type": "execute_result"
    }
   ],
   "source": [
    "df_2020=df[['TOTAL Q1 MEAL','TOTAL Q2 MEAL','TOTAL Q3 2020 ','TOTAL Q4 ']]\n",
    "df_2020.head()"
   ]
  },
  {
   "cell_type": "code",
   "execution_count": 88,
   "metadata": {},
   "outputs": [
    {
     "name": "stderr",
     "output_type": "stream",
     "text": [
      "C:\\Users\\fares\\anaconda3\\lib\\site-packages\\pandas\\core\\generic.py:6245: SettingWithCopyWarning: \n",
      "A value is trying to be set on a copy of a slice from a DataFrame\n",
      "\n",
      "See the caveats in the documentation: https://pandas.pydata.org/pandas-docs/stable/user_guide/indexing.html#returning-a-view-versus-a-copy\n",
      "  self._update_inplace(new_data)\n"
     ]
    }
   ],
   "source": [
    "df_2020.fillna({'TOTAL Q1 MEAL': df_2020['TOTAL Q1 MEAL'].mean(),'TOTAL Q2 MEAL':df_2020['TOTAL Q2 MEAL'].mean(),'TOTAL Q3 2020 ':df_2020['TOTAL Q3 2020 '].mean(),'TOTAL Q4 ':df_2020['TOTAL Q4 '].mean()}, inplace=True)"
   ]
  },
  {
   "cell_type": "code",
   "execution_count": 89,
   "metadata": {},
   "outputs": [
    {
     "data": {
      "text/plain": [
       "N origine\n",
       "7471.0     9234804.5\n",
       "19990.0    3375736.0\n",
       "11104.0    7534546.0\n",
       "9234.0     2525600.0\n",
       "12133.0    4518846.0\n",
       "dtype: float64"
      ]
     },
     "execution_count": 89,
     "metadata": {},
     "output_type": "execute_result"
    }
   ],
   "source": [
    "s_2020=df_2020.apply(lambda row : row['TOTAL Q1 MEAL']+row['TOTAL Q2 MEAL']+row['TOTAL Q3 2020 ']+row['TOTAL Q4 '], axis=1)\n",
    "s_2020.head()"
   ]
  },
  {
   "cell_type": "code",
   "execution_count": 90,
   "metadata": {},
   "outputs": [
    {
     "data": {
      "text/plain": [
       "N origine\n",
       "7471.0     7044756.5\n",
       "19990.0          0.0\n",
       "11104.0    3581872.0\n",
       "9234.0           0.0\n",
       "12133.0    4456444.5\n",
       "dtype: float64"
      ]
     },
     "execution_count": 90,
     "metadata": {},
     "output_type": "execute_result"
    }
   ],
   "source": [
    "df_2019=df[['TOTAL MEAL Q1+Q2 2019','TOTAL Q3+Q4 MEAL 2019']]\n",
    "df_2019.fillna({'TOTAL Q3+Q4 MEAL 2019': df_2019['TOTAL Q3+Q4 MEAL 2019'].mean(),'TOTAL MEAL Q1+Q2 2019':df_2019['TOTAL MEAL Q1+Q2 2019'].mean()}, inplace=True)\n",
    "s_2019=df_2019.apply(lambda row : row['TOTAL MEAL Q1+Q2 2019']+row['TOTAL Q3+Q4 MEAL 2019'], axis=1)\n",
    "s_2019.head()"
   ]
  },
  {
   "cell_type": "code",
   "execution_count": 91,
   "metadata": {},
   "outputs": [],
   "source": [
    "import pandas as pd\n",
    "df1=pd.DataFrame({'2019 Meal': s_2019,'2020 Meal': s_2020})"
   ]
  },
  {
   "cell_type": "code",
   "execution_count": 92,
   "metadata": {},
   "outputs": [
    {
     "data": {
      "text/html": [
       "<div>\n",
       "<style scoped>\n",
       "    .dataframe tbody tr th:only-of-type {\n",
       "        vertical-align: middle;\n",
       "    }\n",
       "\n",
       "    .dataframe tbody tr th {\n",
       "        vertical-align: top;\n",
       "    }\n",
       "\n",
       "    .dataframe thead th {\n",
       "        text-align: right;\n",
       "    }\n",
       "</style>\n",
       "<table border=\"1\" class=\"dataframe\">\n",
       "  <thead>\n",
       "    <tr style=\"text-align: right;\">\n",
       "      <th></th>\n",
       "      <th>2019 Meal</th>\n",
       "      <th>2020 Meal</th>\n",
       "    </tr>\n",
       "  </thead>\n",
       "  <tbody>\n",
       "    <tr>\n",
       "      <th>2019 Meal</th>\n",
       "      <td>3.808693e+12</td>\n",
       "      <td>4.040550e+12</td>\n",
       "    </tr>\n",
       "    <tr>\n",
       "      <th>2020 Meal</th>\n",
       "      <td>4.040550e+12</td>\n",
       "      <td>4.292406e+12</td>\n",
       "    </tr>\n",
       "  </tbody>\n",
       "</table>\n",
       "</div>"
      ],
      "text/plain": [
       "              2019 Meal     2020 Meal\n",
       "2019 Meal  3.808693e+12  4.040550e+12\n",
       "2020 Meal  4.040550e+12  4.292406e+12"
      ]
     },
     "execution_count": 92,
     "metadata": {},
     "output_type": "execute_result"
    }
   ],
   "source": [
    "df1.cov()"
   ]
  },
  {
   "cell_type": "code",
   "execution_count": 93,
   "metadata": {},
   "outputs": [
    {
     "data": {
      "image/png": "[encoded data removed]",
      "text/plain": [
       "<Figure size 432x288 with 1 Axes>"
      ]
     },
     "metadata": {
      "needs_background": "light"
     },
     "output_type": "display_data"
    }
   ],
   "source": [
    "from sklearn.cluster import KMeans\n",
    "km=KMeans(n_clusters=2)\n",
    "km.fit(df1)\n",
    "labels=km.predict(df1)\n",
    "S0=X1[labels==0]\n",
    "S1=X1[labels==1]\n",
    "import matplotlib.pyplot as plt\n",
    "plt.plot(S0[:,0],S0[:,1],'r+',label='cluster 0')\n",
    "plt.plot(S1[:,0],S1[:,1],'b+',label='cluster 1')\n",
    "plt.legend()\n",
    "plt.xlabel('2019 Meal')\n",
    "plt.ylabel('2020 Meal')\n",
    "plt.title('Clustering des données')\n",
    "plt.show()"
   ]
  },
  {
   "cell_type": "code",
   "execution_count": 94,
   "metadata": {},
   "outputs": [
    {
     "data": {
      "text/plain": [
       "(8292, 2)"
      ]
     },
     "execution_count": 94,
     "metadata": {},
     "output_type": "execute_result"
    }
   ],
   "source": [
    "S0.shape"
   ]
  },
  {
   "cell_type": "code",
   "execution_count": 95,
   "metadata": {},
   "outputs": [
    {
     "data": {
      "text/plain": [
       "(1, 2)"
      ]
     },
     "execution_count": 95,
     "metadata": {},
     "output_type": "execute_result"
    }
   ],
   "source": [
    "S1.shape"
   ]
  },
  {
   "cell_type": "code",
   "execution_count": 96,
   "metadata": {},
   "outputs": [],
   "source": [
    "df=pd.read_excel('PORTEFEUILLE.xlsx', index_col=0)"
   ]
  },
  {
   "cell_type": "code",
   "execution_count": 97,
   "metadata": {},
   "outputs": [],
   "source": [
    "from sklearn.tree import DecisionTreeClassifier # Import Decision Tree Classifier\n",
    "from sklearn.model_selection import train_test_split # Import train_test_split function\n",
    "from sklearn import metrics #Import scikit-learn metrics module for accuracy calculation"
   ]
  },
  {
   "cell_type": "code",
   "execution_count": 98,
   "metadata": {},
   "outputs": [
    {
     "ename": "KeyError",
     "evalue": "'Passing list-likes to .loc or [] with any missing labels is no longer supported, see https://pandas.pydata.org/pandas-docs/stable/user_guide/indexing.html#deprecate-loc-reindex-listlike'",
     "output_type": "error",
     "traceback": [
      "\u001b[1;31m---------------------------------------------------------------------------\u001b[0m",
      "\u001b[1;31mKeyError\u001b[0m                                  Traceback (most recent call last)",
      "\u001b[1;32m<ipython-input-98-ff179ce5fee4>\u001b[0m in \u001b[0;36m<module>\u001b[1;34m\u001b[0m\n\u001b[1;32m----> 1\u001b[1;33m \u001b[0mpima\u001b[0m \u001b[1;33m=\u001b[0m \u001b[0mdf\u001b[0m\u001b[1;33m.\u001b[0m\u001b[0mloc\u001b[0m\u001b[1;33m[\u001b[0m\u001b[1;33m:\u001b[0m\u001b[1;33m,\u001b[0m\u001b[1;33m[\u001b[0m \u001b[1;34m'Nom'\u001b[0m\u001b[1;33m,\u001b[0m \u001b[1;34m'MIGRATION CARTE'\u001b[0m\u001b[1;33m,\u001b[0m \u001b[1;34m'Public/Privé'\u001b[0m\u001b[1;33m,\u001b[0m\u001b[1;34m'Mode paiement CR'\u001b[0m\u001b[1;33m,\u001b[0m\u001b[1;34m'Délais de paiement CR'\u001b[0m\u001b[1;33m]\u001b[0m\u001b[1;33m]\u001b[0m\u001b[1;33m\u001b[0m\u001b[1;33m\u001b[0m\u001b[0m\n\u001b[0m\u001b[0;32m      2\u001b[0m \u001b[0mpima\u001b[0m\u001b[1;33m.\u001b[0m\u001b[0mhead\u001b[0m\u001b[1;33m(\u001b[0m\u001b[1;33m)\u001b[0m\u001b[1;33m\u001b[0m\u001b[1;33m\u001b[0m\u001b[0m\n",
      "\u001b[1;32m~\\anaconda3\\lib\\site-packages\\pandas\\core\\indexing.py\u001b[0m in \u001b[0;36m__getitem__\u001b[1;34m(self, key)\u001b[0m\n\u001b[0;32m   1759\u001b[0m                 \u001b[1;32mexcept\u001b[0m \u001b[1;33m(\u001b[0m\u001b[0mKeyError\u001b[0m\u001b[1;33m,\u001b[0m \u001b[0mIndexError\u001b[0m\u001b[1;33m,\u001b[0m \u001b[0mAttributeError\u001b[0m\u001b[1;33m)\u001b[0m\u001b[1;33m:\u001b[0m\u001b[1;33m\u001b[0m\u001b[1;33m\u001b[0m\u001b[0m\n\u001b[0;32m   1760\u001b[0m                     \u001b[1;32mpass\u001b[0m\u001b[1;33m\u001b[0m\u001b[1;33m\u001b[0m\u001b[0m\n\u001b[1;32m-> 1761\u001b[1;33m             \u001b[1;32mreturn\u001b[0m \u001b[0mself\u001b[0m\u001b[1;33m.\u001b[0m\u001b[0m_getitem_tuple\u001b[0m\u001b[1;33m(\u001b[0m\u001b[0mkey\u001b[0m\u001b[1;33m)\u001b[0m\u001b[1;33m\u001b[0m\u001b[1;33m\u001b[0m\u001b[0m\n\u001b[0m\u001b[0;32m   1762\u001b[0m         \u001b[1;32melse\u001b[0m\u001b[1;33m:\u001b[0m\u001b[1;33m\u001b[0m\u001b[1;33m\u001b[0m\u001b[0m\n\u001b[0;32m   1763\u001b[0m             \u001b[1;31m# we by definition only have the 0th axis\u001b[0m\u001b[1;33m\u001b[0m\u001b[1;33m\u001b[0m\u001b[1;33m\u001b[0m\u001b[0m\n",
      "\u001b[1;32m~\\anaconda3\\lib\\site-packages\\pandas\\core\\indexing.py\u001b[0m in \u001b[0;36m_getitem_tuple\u001b[1;34m(self, tup)\u001b[0m\n\u001b[0;32m   1286\u001b[0m                 \u001b[1;32mcontinue\u001b[0m\u001b[1;33m\u001b[0m\u001b[1;33m\u001b[0m\u001b[0m\n\u001b[0;32m   1287\u001b[0m \u001b[1;33m\u001b[0m\u001b[0m\n\u001b[1;32m-> 1288\u001b[1;33m             \u001b[0mretval\u001b[0m \u001b[1;33m=\u001b[0m \u001b[0mgetattr\u001b[0m\u001b[1;33m(\u001b[0m\u001b[0mretval\u001b[0m\u001b[1;33m,\u001b[0m \u001b[0mself\u001b[0m\u001b[1;33m.\u001b[0m\u001b[0mname\u001b[0m\u001b[1;33m)\u001b[0m\u001b[1;33m.\u001b[0m\u001b[0m_getitem_axis\u001b[0m\u001b[1;33m(\u001b[0m\u001b[0mkey\u001b[0m\u001b[1;33m,\u001b[0m \u001b[0maxis\u001b[0m\u001b[1;33m=\u001b[0m\u001b[0mi\u001b[0m\u001b[1;33m)\u001b[0m\u001b[1;33m\u001b[0m\u001b[1;33m\u001b[0m\u001b[0m\n\u001b[0m\u001b[0;32m   1289\u001b[0m \u001b[1;33m\u001b[0m\u001b[0m\n\u001b[0;32m   1290\u001b[0m         \u001b[1;32mreturn\u001b[0m \u001b[0mretval\u001b[0m\u001b[1;33m\u001b[0m\u001b[1;33m\u001b[0m\u001b[0m\n",
      "\u001b[1;32m~\\anaconda3\\lib\\site-packages\\pandas\\core\\indexing.py\u001b[0m in \u001b[0;36m_getitem_axis\u001b[1;34m(self, key, axis)\u001b[0m\n\u001b[0;32m   1951\u001b[0m                     \u001b[1;32mraise\u001b[0m \u001b[0mValueError\u001b[0m\u001b[1;33m(\u001b[0m\u001b[1;34m\"Cannot index with multidimensional key\"\u001b[0m\u001b[1;33m)\u001b[0m\u001b[1;33m\u001b[0m\u001b[1;33m\u001b[0m\u001b[0m\n\u001b[0;32m   1952\u001b[0m \u001b[1;33m\u001b[0m\u001b[0m\n\u001b[1;32m-> 1953\u001b[1;33m                 \u001b[1;32mreturn\u001b[0m \u001b[0mself\u001b[0m\u001b[1;33m.\u001b[0m\u001b[0m_getitem_iterable\u001b[0m\u001b[1;33m(\u001b[0m\u001b[0mkey\u001b[0m\u001b[1;33m,\u001b[0m \u001b[0maxis\u001b[0m\u001b[1;33m=\u001b[0m\u001b[0maxis\u001b[0m\u001b[1;33m)\u001b[0m\u001b[1;33m\u001b[0m\u001b[1;33m\u001b[0m\u001b[0m\n\u001b[0m\u001b[0;32m   1954\u001b[0m \u001b[1;33m\u001b[0m\u001b[0m\n\u001b[0;32m   1955\u001b[0m             \u001b[1;31m# nested tuple slicing\u001b[0m\u001b[1;33m\u001b[0m\u001b[1;33m\u001b[0m\u001b[1;33m\u001b[0m\u001b[0m\n",
      "\u001b[1;32m~\\anaconda3\\lib\\site-packages\\pandas\\core\\indexing.py\u001b[0m in \u001b[0;36m_getitem_iterable\u001b[1;34m(self, key, axis)\u001b[0m\n\u001b[0;32m   1592\u001b[0m         \u001b[1;32melse\u001b[0m\u001b[1;33m:\u001b[0m\u001b[1;33m\u001b[0m\u001b[1;33m\u001b[0m\u001b[0m\n\u001b[0;32m   1593\u001b[0m             \u001b[1;31m# A collection of keys\u001b[0m\u001b[1;33m\u001b[0m\u001b[1;33m\u001b[0m\u001b[1;33m\u001b[0m\u001b[0m\n\u001b[1;32m-> 1594\u001b[1;33m             \u001b[0mkeyarr\u001b[0m\u001b[1;33m,\u001b[0m \u001b[0mindexer\u001b[0m \u001b[1;33m=\u001b[0m \u001b[0mself\u001b[0m\u001b[1;33m.\u001b[0m\u001b[0m_get_listlike_indexer\u001b[0m\u001b[1;33m(\u001b[0m\u001b[0mkey\u001b[0m\u001b[1;33m,\u001b[0m \u001b[0maxis\u001b[0m\u001b[1;33m,\u001b[0m \u001b[0mraise_missing\u001b[0m\u001b[1;33m=\u001b[0m\u001b[1;32mFalse\u001b[0m\u001b[1;33m)\u001b[0m\u001b[1;33m\u001b[0m\u001b[1;33m\u001b[0m\u001b[0m\n\u001b[0m\u001b[0;32m   1595\u001b[0m             return self.obj._reindex_with_indexers(\n\u001b[0;32m   1596\u001b[0m                 \u001b[1;33m{\u001b[0m\u001b[0maxis\u001b[0m\u001b[1;33m:\u001b[0m \u001b[1;33m[\u001b[0m\u001b[0mkeyarr\u001b[0m\u001b[1;33m,\u001b[0m \u001b[0mindexer\u001b[0m\u001b[1;33m]\u001b[0m\u001b[1;33m}\u001b[0m\u001b[1;33m,\u001b[0m \u001b[0mcopy\u001b[0m\u001b[1;33m=\u001b[0m\u001b[1;32mTrue\u001b[0m\u001b[1;33m,\u001b[0m \u001b[0mallow_dups\u001b[0m\u001b[1;33m=\u001b[0m\u001b[1;32mTrue\u001b[0m\u001b[1;33m\u001b[0m\u001b[1;33m\u001b[0m\u001b[0m\n",
      "\u001b[1;32m~\\anaconda3\\lib\\site-packages\\pandas\\core\\indexing.py\u001b[0m in \u001b[0;36m_get_listlike_indexer\u001b[1;34m(self, key, axis, raise_missing)\u001b[0m\n\u001b[0;32m   1550\u001b[0m \u001b[1;33m\u001b[0m\u001b[0m\n\u001b[0;32m   1551\u001b[0m         self._validate_read_indexer(\n\u001b[1;32m-> 1552\u001b[1;33m             \u001b[0mkeyarr\u001b[0m\u001b[1;33m,\u001b[0m \u001b[0mindexer\u001b[0m\u001b[1;33m,\u001b[0m \u001b[0mo\u001b[0m\u001b[1;33m.\u001b[0m\u001b[0m_get_axis_number\u001b[0m\u001b[1;33m(\u001b[0m\u001b[0maxis\u001b[0m\u001b[1;33m)\u001b[0m\u001b[1;33m,\u001b[0m \u001b[0mraise_missing\u001b[0m\u001b[1;33m=\u001b[0m\u001b[0mraise_missing\u001b[0m\u001b[1;33m\u001b[0m\u001b[1;33m\u001b[0m\u001b[0m\n\u001b[0m\u001b[0;32m   1553\u001b[0m         )\n\u001b[0;32m   1554\u001b[0m         \u001b[1;32mreturn\u001b[0m \u001b[0mkeyarr\u001b[0m\u001b[1;33m,\u001b[0m \u001b[0mindexer\u001b[0m\u001b[1;33m\u001b[0m\u001b[1;33m\u001b[0m\u001b[0m\n",
      "\u001b[1;32m~\\anaconda3\\lib\\site-packages\\pandas\\core\\indexing.py\u001b[0m in \u001b[0;36m_validate_read_indexer\u001b[1;34m(self, key, indexer, axis, raise_missing)\u001b[0m\n\u001b[0;32m   1652\u001b[0m             \u001b[1;32mif\u001b[0m \u001b[1;32mnot\u001b[0m \u001b[1;33m(\u001b[0m\u001b[0max\u001b[0m\u001b[1;33m.\u001b[0m\u001b[0mis_categorical\u001b[0m\u001b[1;33m(\u001b[0m\u001b[1;33m)\u001b[0m \u001b[1;32mor\u001b[0m \u001b[0max\u001b[0m\u001b[1;33m.\u001b[0m\u001b[0mis_interval\u001b[0m\u001b[1;33m(\u001b[0m\u001b[1;33m)\u001b[0m\u001b[1;33m)\u001b[0m\u001b[1;33m:\u001b[0m\u001b[1;33m\u001b[0m\u001b[1;33m\u001b[0m\u001b[0m\n\u001b[0;32m   1653\u001b[0m                 raise KeyError(\n\u001b[1;32m-> 1654\u001b[1;33m                     \u001b[1;34m\"Passing list-likes to .loc or [] with any missing labels \"\u001b[0m\u001b[1;33m\u001b[0m\u001b[1;33m\u001b[0m\u001b[0m\n\u001b[0m\u001b[0;32m   1655\u001b[0m                     \u001b[1;34m\"is no longer supported, see \"\u001b[0m\u001b[1;33m\u001b[0m\u001b[1;33m\u001b[0m\u001b[0m\n\u001b[0;32m   1656\u001b[0m                     \u001b[1;34m\"https://pandas.pydata.org/pandas-docs/stable/user_guide/indexing.html#deprecate-loc-reindex-listlike\"\u001b[0m  \u001b[1;31m# noqa:E501\u001b[0m\u001b[1;33m\u001b[0m\u001b[1;33m\u001b[0m\u001b[0m\n",
      "\u001b[1;31mKeyError\u001b[0m: 'Passing list-likes to .loc or [] with any missing labels is no longer supported, see https://pandas.pydata.org/pandas-docs/stable/user_guide/indexing.html#deprecate-loc-reindex-listlike'"
     ]
    }
   ],
   "source": [
    "pima = df.loc[:,[ 'Nom', 'MIGRATION CARTE', 'Public/Privé','Mode paiement CR','Délais de paiement CR']]\n",
    "pima.head()"
   ]
  },
  {
   "cell_type": "code",
   "execution_count": null,
   "metadata": {},
   "outputs": [],
   "source": [
    "Label = pd.get_dummies(pima['Public/Privé'], prefix='Public/Privé')\n",
    "Label.head()"
   ]
  },
  {
   "cell_type": "code",
   "execution_count": null,
   "metadata": {},
   "outputs": [],
   "source": [
    "pd.concat([pima,Label], axis=1)\n",
    "pima=pd.concat([pima,Label], axis=1)\n",
    "pima.head()"
   ]
  },
  {
   "cell_type": "code",
   "execution_count": null,
   "metadata": {},
   "outputs": [],
   "source": [
    "pima.fillna('NON', inplace=True)"
   ]
  },
  {
   "cell_type": "code",
   "execution_count": null,
   "metadata": {},
   "outputs": [],
   "source": [
    "Label = pd.get_dummies(pima['MIGRATION CARTE'], prefix='MIGRATION CARTE')\n",
    "Label.head()\n",
    "pd.concat([pima,Label], axis=1)\n",
    "pima=pd.concat([pima,Label], axis=1)\n",
    "pima.head()"
   ]
  },
  {
   "cell_type": "code",
   "execution_count": null,
   "metadata": {},
   "outputs": [],
   "source": [
    "pima=pd.read_excel('output.xlsx', index_col=0)\n",
    "pima.head()"
   ]
  },
  {
   "cell_type": "code",
   "execution_count": null,
   "metadata": {},
   "outputs": [],
   "source": [
    "#split dataset in features and target variable\n",
    "#feature_cols = ['pregnant', 'insulin', 'bmi', 'age','glucose','bp','pedigree']\n",
    "X = pima[['Délais de paiement CR','Public/Privé_Prive']] # Features\n",
    "y = pima['MIGRATION CARTE_OUI'] # Target variable"
   ]
  },
  {
   "cell_type": "code",
   "execution_count": null,
   "metadata": {},
   "outputs": [],
   "source": [
    "# Split dataset into training set and test set\n",
    "X_train, X_test, y_train, y_test = train_test_split(X, y, test_size=0.3, random_state=1) # 70% training and 30% test"
   ]
  },
  {
   "cell_type": "code",
   "execution_count": null,
   "metadata": {},
   "outputs": [],
   "source": [
    "# Create Decision Tree classifer object\n",
    "clf = DecisionTreeClassifier(min_samples_split=5,min_samples_leaf=5)\n"
   ]
  },
  {
   "cell_type": "code",
   "execution_count": null,
   "metadata": {},
   "outputs": [],
   "source": [
    "# Train Decision Tree Classifer\n",
    "clf=clf.fit(X_train, y_train)"
   ]
  },
  {
   "cell_type": "code",
   "execution_count": null,
   "metadata": {},
   "outputs": [],
   "source": [
    "#Predict the response for test dataset\n",
    "y_pred = clf.predict(X_test)"
   ]
  },
  {
   "cell_type": "code",
   "execution_count": null,
   "metadata": {},
   "outputs": [],
   "source": [
    "# Model Accuracy, how often is the classifier correct?\n",
    "print(\"Accuracy:\",metrics.accuracy_score(y_test, y_pred))"
   ]
  },
  {
   "cell_type": "markdown",
   "metadata": {},
   "source": [
    "#install on prompt \n",
    "#pip install graphviz\n",
    "#pip install pydotplus"
   ]
  },
  {
   "cell_type": "code",
   "execution_count": null,
   "metadata": {
    "scrolled": true
   },
   "outputs": [],
   "source": [
    "from sklearn.tree import export_graphviz\n",
    "from sklearn.externals.six import StringIO\n",
    "from IPython.display import Image  \n",
    "import pydotplus"
   ]
  },
  {
   "cell_type": "code",
   "execution_count": null,
   "metadata": {},
   "outputs": [],
   "source": [
    "dot_data = StringIO()\n",
    "export_graphviz(clf, out_file=dot_data,  \n",
    "                filled=True, rounded=True,\n",
    "                special_characters=True,feature_names = feature_cols,class_names=['0','1'])\n",
    "graph = pydotplus.graph_from_dot_data(dot_data.getvalue())  \n",
    "graph.write_png('migration_classification.png')\n",
    "Image(graph.create_png())"
   ]
  },
  {
   "cell_type": "code",
   "execution_count": null,
   "metadata": {},
   "outputs": [],
   "source": [
    "from sklearn.metrics import confusion_matrix\n",
    "\n",
    " \n",
    "\n",
    "from sklearn.tree import DecisionTreeClassifier\n",
    "\n",
    "from sklearn.metrics import accuracy_score\n",
    "\n",
    "from sklearn.metrics import classification_report"
   ]
  },
  {
   "cell_type": "code",
   "execution_count": null,
   "metadata": {},
   "outputs": [],
   "source": [
    "import matplotlib.pyplot as plt\n",
    "\n",
    "plt.figure(figsize=(150,150))\n",
    "\n",
    "plot_tree(clf,feature_names = list(pima.columns[:-1]),filled=True)\n",
    "\n",
    "plt.show()"
   ]
  },
  {
   "cell_type": "code",
   "execution_count": null,
   "metadata": {},
   "outputs": [],
   "source": [
    "def train_using_gini(X_train, X_test, y_train):\n",
    "\n",
    "  \n",
    "\n",
    "    # Creating the classifier object\n",
    "\n",
    "    clf_gini = DecisionTreeClassifier(criterion = \"gini\",\n",
    "\n",
    "            random_state = 100,max_depth=3, min_samples_leaf=5)\n",
    "\n",
    "  \n",
    "\n",
    "    # Performing training\n",
    "\n",
    "    clf_gini.fit(X_train, y_train)\n",
    "\n",
    "    return clf_gini"
   ]
  },
  {
   "cell_type": "code",
   "execution_count": null,
   "metadata": {},
   "outputs": [],
   "source": [
    "# Function to perform training with entropy.\n",
    "\n",
    "def tarin_using_entropy(X_train, X_test, y_train):\n",
    "\n",
    "  \n",
    "\n",
    "    # Decision tree with entropy\n",
    "\n",
    "    clf_entropy = DecisionTreeClassifier(\n",
    "\n",
    "            criterion = \"entropy\", random_state = 100,\n",
    "\n",
    "            max_depth = 3, min_samples_leaf = 5)\n",
    "\n",
    "  \n",
    "\n",
    "    # Performing training\n",
    "\n",
    "    clf_entropy.fit(X_train, y_train)\n",
    "\n",
    "    return clf_entropy"
   ]
  },
  {
   "cell_type": "code",
   "execution_count": null,
   "metadata": {},
   "outputs": [],
   "source": [
    "# Function to make predictions\n",
    "\n",
    "def prediction(X_test, clf_object):\n",
    "\n",
    "  \n",
    "\n",
    "    # Predicton on test with giniIndex\n",
    "\n",
    "    y_pred = clf_object.predict(X_test)\n",
    "\n",
    "    print(\"Predicted values:\")\n",
    "\n",
    "    print(y_pred)\n",
    "\n",
    "    return y_pred\n",
    "\n",
    "      \n",
    "\n",
    "# Function to calculate accuracy\n",
    "\n",
    "def cal_accuracy(y_test, y_pred):\n",
    "\n",
    "      \n",
    "\n",
    "    print(\"Confusion Matrix: \",\n",
    "\n",
    "        confusion_matrix(y_test, y_pred))\n",
    "\n",
    "      \n",
    "\n",
    "    print (\"Accuracy : \",\n",
    "\n",
    "    accuracy_score(y_test,y_pred)*100)\n",
    "\n",
    "      \n",
    "\n",
    "    print(\"Report : \",\n",
    "\n",
    "    classification_report(y_test, y_pred))"
   ]
  },
  {
   "cell_type": "code",
   "execution_count": null,
   "metadata": {},
   "outputs": [],
   "source": [
    "def main():\n",
    "\n",
    "      \n",
    "\n",
    "  \n",
    "\n",
    "    clf_gini = train_using_gini(X_train, X_test, y_train)\n",
    "\n",
    "    clf_entropy = tarin_using_entropy(X_train, X_test, y_train)\n",
    "\n",
    "      \n",
    "\n",
    "    # Operational Phase\n",
    "\n",
    "    print(\"Results Using Gini Index:\")\n",
    "\n",
    "      \n",
    "\n",
    "    # Prediction using gini\n",
    "\n",
    "    y_pred_gini = prediction(X_test, clf_gini)\n",
    "\n",
    "    cal_accuracy(y_test, y_pred_gini)\n",
    "\n",
    "      \n",
    "\n",
    "    print(\"Results Using Entropy:\")\n",
    "\n",
    "    # Prediction using entropy\n",
    "\n",
    "    y_pred_entropy = prediction(X_test, clf_entropy)\n",
    "\n",
    "    cal_accuracy(y_test, y_pred_entropy)\n",
    "\n",
    "      \n",
    "\n",
    "      \n",
    "\n",
    "# Calling main function\n",
    "\n",
    "if __name__==\"__main__\":\n",
    "\n",
    "    main()"
   ]
  },
  {
   "cell_type": "code",
   "execution_count": null,
   "metadata": {},
   "outputs": [],
   "source": [
    "from sklearn import metrics\n",
    "\n",
    "print('Mean Absolute Error:', metrics.mean_absolute_error(y_test, y_pred))\n",
    "\n",
    "print('Mean Squared Error:', metrics.mean_squared_error(y_test, y_pred))\n",
    "\n",
    "print('Root Mean Squared Error:', np.sqrt(metrics.mean_squared_error(y_test, y_pred)))"
   ]
  },
  {
   "cell_type": "code",
   "execution_count": null,
   "metadata": {},
   "outputs": [],
   "source": [
    "from sklearn.metrics import classification_report, confusion_matrix\n",
    "\n",
    "print(confusion_matrix(y_test, y_pred))\n",
    "\n",
    "print(classification_report(y_test, y_pred))"
   ]
  },
  {
   "cell_type": "code",
   "execution_count": null,
   "metadata": {},
   "outputs": [],
   "source": [
    "import matplotlib.pyplot as plt\n",
    "from sklearn.metrics import classification_report, confusion_matrix\n",
    "plt.figure(figsize=(150,150))\n",
    "\n",
    "plot_tree(clf,feature_names = list(pima.columns[:-1]),filled=True)\n",
    "\n",
    "plt.show()\n",
    "\n"
   ]
  }
 ],
 "metadata": {
  "kernelspec": {
   "display_name": "Python 3",
   "language": "python",
   "name": "python3"
  },
  "language_info": {
   "codemirror_mode": {
    "name": "ipython",
    "version": 3
   },
   "file_extension": ".py",
   "mimetype": "text/x-python",
   "name": "python",
   "nbconvert_exporter": "python",
   "pygments_lexer": "ipython3",
   "version": "3.7.6"
  }
 },
 "nbformat": 4,
 "nbformat_minor": 4
}
